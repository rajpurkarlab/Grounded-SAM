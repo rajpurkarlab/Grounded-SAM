{
 "cells": [
  {
   "cell_type": "code",
   "execution_count": 1,
   "metadata": {},
   "outputs": [
    {
     "name": "stderr",
     "output_type": "stream",
     "text": [
      "/home/mam0364/.conda/envs/grounded_sam/lib/python3.9/site-packages/tqdm/auto.py:21: TqdmWarning: IProgress not found. Please update jupyter and ipywidgets. See https://ipywidgets.readthedocs.io/en/stable/user_install.html\n",
      "  from .autonotebook import tqdm as notebook_tqdm\n"
     ]
    }
   ],
   "source": [
    "import os\n",
    "import torch\n",
    "import pandas as pd\n",
    "import numpy as np\n",
    "from torch.utils.data import Dataset, DataLoader\n",
    "import h5py\n",
    "from linear_probe import LinearProbe\n",
    "from vr_adapt import load_models\n",
    "import torch\n",
    "from torchvision import transforms\n",
    "from PIL import Image\n",
    "\n",
    "def load_model():\n",
    "    \"\"\"Return image encoder, text encoder, and linear probes.\"\"\"\n",
    "\n",
    "    device = 'cuda' if torch.cuda.is_available() else 'cpu'\n",
    "    groundingdino, sam, biomedclip, tokenizer, preprocess_train, preprocess_val = load_models()\n",
    "    \n",
    "    grounding_dino_input_dims = [\n",
    "        [1, 256, 100, 100],\n",
    "        [1, 512, 50, 50],\n",
    "        [1, 1024, 25, 25],\n",
    "    ]\n",
    "    grounding_dino_linear = LinearProbe(\n",
    "        grounding_dino_input_dims,\n",
    "        512,\n",
    "        device,\n",
    "        )\n",
    "    \n",
    "    sam_input_dims = [\n",
    "        [1, 256, 64, 64]\n",
    "    ]\n",
    "    sam_linear = LinearProbe(\n",
    "        sam_input_dims, \n",
    "        512,\n",
    "        device,\n",
    "        )\n",
    "    \n",
    "    groundingdino_txt_dims = [\n",
    "        [1, 195, 256]\n",
    "    ]\n",
    "    grounding_dino_linear_txt = LinearProbe(\n",
    "        groundingdino_txt_dims,\n",
    "        512,\n",
    "        device,\n",
    "        )\n",
    "\n",
    "    return groundingdino, sam, biomedclip, tokenizer, preprocess_train, grounding_dino_linear, grounding_dino_linear_txt, sam_linear\n",
    "    # NOTE: Linear probes still need to be tuned"
   ]
  },
  {
   "cell_type": "code",
   "execution_count": 2,
   "metadata": {},
   "outputs": [
    {
     "name": "stdout",
     "output_type": "stream",
     "text": [
      "final text_encoder_type: bert-base-uncased\n"
     ]
    },
    {
     "ename": "",
     "evalue": "",
     "output_type": "error",
     "traceback": [
      "\u001b[1;31mThe Kernel crashed while executing code in the the current cell or a previous cell. Please review the code in the cell(s) to identify a possible cause of the failure. Click <a href='https://aka.ms/vscodeJupyterKernelCrash'>here</a> for more info. View Jupyter <a href='command:jupyter.viewOutput'>log</a> for further details."
     ]
    }
   ],
   "source": [
    "groundingdino, sam, biomedclip, tokenizer, preprocess_train, grounding_dino_linear, grounding_dino_linear_txt, sam_linear = load_model()"
   ]
  },
  {
   "cell_type": "code",
   "execution_count": null,
   "metadata": {},
   "outputs": [],
   "source": []
  }
 ],
 "metadata": {
  "kernelspec": {
   "display_name": "grounded_sam",
   "language": "python",
   "name": "grounded_sam"
  },
  "language_info": {
   "codemirror_mode": {
    "name": "ipython",
    "version": 3
   },
   "file_extension": ".py",
   "mimetype": "text/x-python",
   "name": "python",
   "nbconvert_exporter": "python",
   "pygments_lexer": "ipython3",
   "version": "3.9.17"
  },
  "orig_nbformat": 4
 },
 "nbformat": 4,
 "nbformat_minor": 2
}
