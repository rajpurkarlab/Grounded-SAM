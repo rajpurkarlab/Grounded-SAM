{
 "cells": [
  {
   "cell_type": "code",
   "execution_count": 1,
   "metadata": {},
   "outputs": [],
   "source": [
    "\"\"\"Training for Grounded SAM.\n",
    "\"\"\"\n",
    "import os\n",
    "import torch\n",
    "import pandas as pd\n",
    "import numpy as np\n",
    "from torch.utils.data import Dataset, DataLoader\n",
    "import torch\n",
    "from torchvision import transforms\n",
    "from PIL import Image\n",
    "from transformers import SamProcessor\n",
    "\n",
    "from linear_probe import LinearProbe\n",
    "from model import load_model, preprocess_sam, preprocess_groundingdino_img\n",
    "from groundingdino.util.misc import nested_tensor_from_tensor_list\n",
    "from utils import get_bounding_box, SAMDataset\n",
    "\n",
    "from model import myGroundingDino, myBiomedCLIP, mySAM\n",
    "import dataset_mimic\n",
    "import dataset_pascal"
   ]
  },
  {
   "cell_type": "code",
   "execution_count": null,
   "metadata": {},
   "outputs": [],
   "source": [
    "def train_adaptation():\n",
    "    \"\"\"Training script for adaptation loss only (to be combined with segmentation objective).\n",
    "    \"\"\"\n",
    "    # Load data\n",
    "    mimic_dataloader = dataset_mimic.get_dataloader(batch_size=16, tensor=True)\n",
    "\n",
    "    # Load model\n",
    "    my_groundingdino = MyGroundingDino()\n",
    "    my_sam = "
   ]
  }
 ],
 "metadata": {
  "kernelspec": {
   "display_name": "grounded_sam",
   "language": "python",
   "name": "grounded_sam"
  },
  "language_info": {
   "codemirror_mode": {
    "name": "ipython",
    "version": 3
   },
   "file_extension": ".py",
   "mimetype": "text/x-python",
   "name": "python",
   "nbconvert_exporter": "python",
   "pygments_lexer": "ipython3",
   "version": "3.9.17"
  }
 },
 "nbformat": 4,
 "nbformat_minor": 2
}
